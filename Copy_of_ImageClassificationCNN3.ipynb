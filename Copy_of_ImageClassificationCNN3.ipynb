{
  "cells": [
    {
      "cell_type": "markdown",
      "metadata": {
        "id": "view-in-github",
        "colab_type": "text"
      },
      "source": [
        "<a href=\"https://colab.research.google.com/github/monkrus/img-classification-cnn/blob/main/Copy_of_ImageClassificationCNN3.ipynb\" target=\"_parent\"><img src=\"https://colab.research.google.com/assets/colab-badge.svg\" alt=\"Open In Colab\"/></a>"
      ]
    },
    {
      "cell_type": "code",
      "execution_count": null,
      "metadata": {
        "id": "c38FblStwt7l"
      },
      "outputs": [],
      "source": [
        "import tensorflow as tf\n",
        "from tensorflow import keras\n",
        "from keras.layers import Conv2D, MaxPooling2D, Dense, Flatten, Dropout, BatchNormalization\n",
        "from keras.callbacks import ReduceLROnPlateau\n",
        "from keras.preprocessing.image import ImageDataGenerator"
      ]
    },
    {
      "cell_type": "code",
      "execution_count": null,
      "metadata": {
        "id": "7cHbZapVxD8g"
      },
      "outputs": [],
      "source": [
        "#load the CIFAR10 dataset\n",
        "cifar10 = keras.datasets.cifar10\n",
        "(x_train, y_train), (x_test, y_test) = cifar10.load_data()\n"
      ]
    },
    {
      "cell_type": "code",
      "execution_count": null,
      "metadata": {
        "id": "KPiozA1e03Be"
      },
      "outputs": [],
      "source": [
        "#preprocess the data\n",
        "x_train = x_train.astype('float32') / 255.0\n",
        "x_test = x_test.astype('float32') / 255.0\n",
        "\n",
        "y_train = keras.utils.to_categorical(y_train, 10)\n",
        "y_test = keras.utils.to_categorical(y_test, 10)\n"
      ]
    },
    {
      "cell_type": "code",
      "execution_count": null,
      "metadata": {
        "id": "DbJeHXhgLMsK"
      },
      "outputs": [],
      "source": [
        "# Perform data augmentation\n",
        "datagen = ImageDataGenerator(\n",
        "    rotation_range=15,\n",
        "    width_shift_range=0.1,\n",
        "    height_shift_range=0.1,\n",
        "    horizontal_flip=True,\n",
        "    vertical_flip=False\n",
        ")\n",
        "datagen.fit(x_train)"
      ]
    },
    {
      "cell_type": "code",
      "execution_count": null,
      "metadata": {
        "id": "QR3v1FFH3Dwi"
      },
      "outputs": [],
      "source": [
        "#build CNN model\n",
        "model = keras.Sequential([\n",
        "    Conv2D(32, 3, activation='relu', padding='same', input_shape=(32, 32, 3)),\n",
        "    BatchNormalization(),\n",
        "    Conv2D(32, 3, activation='relu', padding='same'),\n",
        "    BatchNormalization(),\n",
        "    MaxPooling2D(2),\n",
        "    Conv2D(64, 3, activation='relu', padding='same'),\n",
        "    BatchNormalization(),\n",
        "    Conv2D(64, 3, activation='relu', padding='same'),\n",
        "    BatchNormalization(),\n",
        "    MaxPooling2D(2),\n",
        "    Conv2D(128, 3, activation='relu', padding='same'),\n",
        "    BatchNormalization(),\n",
        "    Conv2D(128, 3, activation='relu', padding='same'),\n",
        "    BatchNormalization(),\n",
        "    MaxPooling2D(2),\n",
        "    Flatten(),\n",
        "    Dense(256, activation='relu'),\n",
        "    Dropout(0.5),\n",
        "    BatchNormalization(),\n",
        "    Dense(128, activation='relu'),\n",
        "    Dropout(0.5),\n",
        "    BatchNormalization(),\n",
        "    Dense(10, activation='softmax')\n",
        "])\n"
      ]
    },
    {
      "cell_type": "code",
      "execution_count": null,
      "metadata": {
        "id": "yVMQjkcqj9-N"
      },
      "outputs": [],
      "source": [
        "# Define learning rate schedule\n",
        "lr_schedule = ReduceLROnPlateau(monitor='val_accuracy',\n",
        "                                factor=0.1,\n",
        "                                patience=5,\n",
        "                                min_lr=0.0001)\n"
      ]
    },
    {
      "cell_type": "code",
      "execution_count": null,
      "metadata": {
        "id": "doFnTEbez-ra"
      },
      "outputs": [],
      "source": [
        "# compile  the model\n",
        "model.compile(optimizer='adam',\n",
        "              loss='categorical_crossentropy',\n",
        "              metrics=['accuracy'])\n"
      ]
    },
    {
      "cell_type": "code",
      "execution_count": null,
      "metadata": {
        "colab": {
          "background_save": true,
          "base_uri": "https://localhost:8080/"
        },
        "id": "thk29fjM0l3N",
        "outputId": "4bebe222-1fec-483e-ed96-7ff09535d159"
      },
      "outputs": [
        {
          "name": "stdout",
          "output_type": "stream",
          "text": [
            "Epoch 1/30\n",
            "1250/1250 [==============================] - 18s 9ms/step - loss: 1.7397 - accuracy: 0.3780 - val_loss: 1.3506 - val_accuracy: 0.5041 - lr: 0.0010\n",
            "Epoch 2/30\n",
            "1250/1250 [==============================] - 11s 9ms/step - loss: 1.2938 - accuracy: 0.5411 - val_loss: 1.3171 - val_accuracy: 0.5443 - lr: 0.0010\n",
            "Epoch 3/30\n",
            "1250/1250 [==============================] - 11s 9ms/step - loss: 1.0904 - accuracy: 0.6211 - val_loss: 0.9124 - val_accuracy: 0.6816 - lr: 0.0010\n",
            "Epoch 4/30\n",
            "1250/1250 [==============================] - 11s 9ms/step - loss: 0.9666 - accuracy: 0.6691 - val_loss: 0.8500 - val_accuracy: 0.7022 - lr: 0.0010\n",
            "Epoch 5/30\n",
            "1250/1250 [==============================] - 11s 9ms/step - loss: 0.8914 - accuracy: 0.6991 - val_loss: 0.7581 - val_accuracy: 0.7358 - lr: 0.0010\n",
            "Epoch 6/30\n",
            "1250/1250 [==============================] - 11s 9ms/step - loss: 0.7820 - accuracy: 0.7368 - val_loss: 0.6678 - val_accuracy: 0.7640 - lr: 0.0010\n",
            "Epoch 7/30\n",
            "1250/1250 [==============================] - 11s 9ms/step - loss: 0.7144 - accuracy: 0.7596 - val_loss: 0.6439 - val_accuracy: 0.7759 - lr: 0.0010\n",
            "Epoch 8/30\n",
            "1250/1250 [==============================] - 11s 9ms/step - loss: 0.6441 - accuracy: 0.7843 - val_loss: 0.6206 - val_accuracy: 0.7878 - lr: 0.0010\n",
            "Epoch 9/30\n",
            "1250/1250 [==============================] - 11s 9ms/step - loss: 0.6171 - accuracy: 0.7960 - val_loss: 0.6308 - val_accuracy: 0.7799 - lr: 0.0010\n",
            "Epoch 10/30\n",
            "1250/1250 [==============================] - 11s 9ms/step - loss: 0.5510 - accuracy: 0.8160 - val_loss: 0.5779 - val_accuracy: 0.8058 - lr: 0.0010\n",
            "Epoch 11/30\n",
            "1250/1250 [==============================] - 11s 9ms/step - loss: 0.5079 - accuracy: 0.8300 - val_loss: 0.5487 - val_accuracy: 0.8138 - lr: 0.0010\n",
            "Epoch 12/30\n",
            "1250/1250 [==============================] - 11s 9ms/step - loss: 0.4846 - accuracy: 0.8398 - val_loss: 0.9998 - val_accuracy: 0.6690 - lr: 0.0010\n",
            "Epoch 13/30\n",
            "1250/1250 [==============================] - 11s 9ms/step - loss: 0.4351 - accuracy: 0.8565 - val_loss: 0.6586 - val_accuracy: 0.7759 - lr: 0.0010\n",
            "Epoch 14/30\n",
            "1250/1250 [==============================] - 11s 9ms/step - loss: 0.3938 - accuracy: 0.8704 - val_loss: 0.5943 - val_accuracy: 0.7994 - lr: 0.0010\n",
            "Epoch 15/30\n",
            "1250/1250 [==============================] - 11s 9ms/step - loss: 0.3627 - accuracy: 0.8793 - val_loss: 0.5764 - val_accuracy: 0.8135 - lr: 0.0010\n",
            "Epoch 16/30\n",
            "1250/1250 [==============================] - 12s 9ms/step - loss: 0.3140 - accuracy: 0.8971 - val_loss: 0.6119 - val_accuracy: 0.8081 - lr: 0.0010\n",
            "Epoch 17/30\n",
            "1250/1250 [==============================] - 12s 9ms/step - loss: 0.2170 - accuracy: 0.9281 - val_loss: 0.5093 - val_accuracy: 0.8374 - lr: 1.0000e-04\n",
            "Epoch 18/30\n",
            "1250/1250 [==============================] - 12s 9ms/step - loss: 0.1784 - accuracy: 0.9428 - val_loss: 0.5230 - val_accuracy: 0.8394 - lr: 1.0000e-04\n",
            "Epoch 19/30\n",
            "1250/1250 [==============================] - 12s 9ms/step - loss: 0.1612 - accuracy: 0.9478 - val_loss: 0.5351 - val_accuracy: 0.8401 - lr: 1.0000e-04\n",
            "Epoch 20/30\n",
            "1250/1250 [==============================] - 12s 9ms/step - loss: 0.1448 - accuracy: 0.9534 - val_loss: 0.5436 - val_accuracy: 0.8373 - lr: 1.0000e-04\n",
            "Epoch 21/30\n",
            "1250/1250 [==============================] - 11s 9ms/step - loss: 0.1329 - accuracy: 0.9573 - val_loss: 0.5562 - val_accuracy: 0.8404 - lr: 1.0000e-04\n",
            "Epoch 22/30\n",
            "1250/1250 [==============================] - 11s 9ms/step - loss: 0.1175 - accuracy: 0.9627 - val_loss: 0.5732 - val_accuracy: 0.8390 - lr: 1.0000e-04\n",
            "Epoch 23/30\n",
            "1250/1250 [==============================] - 11s 9ms/step - loss: 0.1105 - accuracy: 0.9642 - val_loss: 0.5896 - val_accuracy: 0.8383 - lr: 1.0000e-04\n",
            "Epoch 24/30\n",
            "1250/1250 [==============================] - 11s 9ms/step - loss: 0.1069 - accuracy: 0.9655 - val_loss: 0.5969 - val_accuracy: 0.8381 - lr: 1.0000e-04\n",
            "Epoch 25/30\n",
            "1250/1250 [==============================] - 11s 9ms/step - loss: 0.0986 - accuracy: 0.9676 - val_loss: 0.6076 - val_accuracy: 0.8385 - lr: 1.0000e-04\n",
            "Epoch 26/30\n",
            "1250/1250 [==============================] - 11s 9ms/step - loss: 0.0894 - accuracy: 0.9714 - val_loss: 0.6221 - val_accuracy: 0.8399 - lr: 1.0000e-04\n",
            "Epoch 27/30\n",
            "1250/1250 [==============================] - 11s 9ms/step - loss: 0.0824 - accuracy: 0.9740 - val_loss: 0.6466 - val_accuracy: 0.8376 - lr: 1.0000e-04\n",
            "Epoch 28/30\n",
            "1250/1250 [==============================] - 11s 9ms/step - loss: 0.0816 - accuracy: 0.9740 - val_loss: 0.6611 - val_accuracy: 0.8387 - lr: 1.0000e-04\n",
            "Epoch 29/30\n",
            "1250/1250 [==============================] - 11s 9ms/step - loss: 0.0724 - accuracy: 0.9760 - val_loss: 0.6719 - val_accuracy: 0.8358 - lr: 1.0000e-04\n",
            "Epoch 30/30\n",
            "1250/1250 [==============================] - 11s 9ms/step - loss: 0.0722 - accuracy: 0.9760 - val_loss: 0.6744 - val_accuracy: 0.8381 - lr: 1.0000e-04\n"
          ]
        },
        {
          "data": {
            "text/plain": [
              "<keras.callbacks.History at 0x7f9a684bda50>"
            ]
          },
          "execution_count": 35,
          "metadata": {},
          "output_type": "execute_result"
        }
      ],
      "source": [
        "#train the model\n",
        "model.fit(x_train, y_train, epochs=30, validation_split=0.2, callbacks=[lr_schedule])\n"
      ]
    },
    {
      "cell_type": "code",
      "execution_count": null,
      "metadata": {
        "colab": {
          "base_uri": "https://localhost:8080/"
        },
        "id": "zEU_IkwH3d3k",
        "outputId": "93b2f3d1-62c4-4380-d16c-12af5fac6bf6"
      },
      "outputs": [
        {
          "name": "stdout",
          "output_type": "stream",
          "text": [
            "313/313 [==============================] - 1s 4ms/step - loss: 0.5760 - accuracy: 0.8249\n",
            "Test accuracy: 0.8248999714851379\n",
            "Test loss: 0.5760216116905212\n"
          ]
        }
      ],
      "source": [
        "# evaluate the model\n",
        "test_loss, test_acc = model.evaluate(x_test, y_test)\n",
        "\n",
        "print('Test accuracy:', test_acc)\n",
        "print('Test loss:', test_loss)"
      ]
    }
  ],
  "metadata": {
    "accelerator": "GPU",
    "colab": {
      "provenance": [],
      "authorship_tag": "ABX9TyOL4+Min+EAu1VnwCOMqvC/",
      "include_colab_link": true
    },
    "kernelspec": {
      "display_name": "Python 3",
      "name": "python3"
    },
    "language_info": {
      "name": "python"
    }
  },
  "nbformat": 4,
  "nbformat_minor": 0
}