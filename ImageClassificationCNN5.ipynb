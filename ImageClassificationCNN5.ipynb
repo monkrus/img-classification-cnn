{
  "cells": [
    {
      "cell_type": "markdown",
      "metadata": {
        "id": "view-in-github",
        "colab_type": "text"
      },
      "source": [
        "<a href=\"https://colab.research.google.com/github/monkrus/img-classification-cnn/blob/main/ImageClassificationCNN5.ipynb\" target=\"_parent\"><img src=\"https://colab.research.google.com/assets/colab-badge.svg\" alt=\"Open In Colab\"/></a>"
      ]
    },
    {
      "cell_type": "code",
      "execution_count": 1,
      "metadata": {
        "id": "c38FblStwt7l"
      },
      "outputs": [],
      "source": [
        "import tensorflow as tf\n",
        "import numpy as np\n",
        "import matplotlib.pyplot as plt\n",
        "from tensorflow import keras\n",
        "from keras.layers import Conv2D, MaxPooling2D, Dense, Flatten, Dropout, BatchNormalization\n",
        "from keras.callbacks import ReduceLROnPlateau\n",
        "from keras.preprocessing.image import ImageDataGenerator"
      ]
    },
    {
      "cell_type": "code",
      "execution_count": 2,
      "metadata": {
        "id": "7cHbZapVxD8g",
        "colab": {
          "base_uri": "https://localhost:8080/"
        },
        "outputId": "63be399e-a60b-4d82-b00e-4ca59bb6f916"
      },
      "outputs": [
        {
          "output_type": "stream",
          "name": "stdout",
          "text": [
            "Downloading data from https://www.cs.toronto.edu/~kriz/cifar-10-python.tar.gz\n",
            "170498071/170498071 [==============================] - 6s 0us/step\n"
          ]
        }
      ],
      "source": [
        "#load the CIFAR10 dataset\n",
        "cifar10 = keras.datasets.cifar10\n",
        "(x_train, y_train), (x_test, y_test) = cifar10.load_data()\n"
      ]
    },
    {
      "cell_type": "code",
      "execution_count": 3,
      "metadata": {
        "id": "KPiozA1e03Be"
      },
      "outputs": [],
      "source": [
        "#preprocess the data\n",
        "x_train = x_train.astype('float32') / 255.0\n",
        "x_test = x_test.astype('float32') / 255.0\n",
        "\n",
        "y_train = keras.utils.to_categorical(y_train, 10)\n",
        "y_test = keras.utils.to_categorical(y_test, 10)\n"
      ]
    },
    {
      "cell_type": "code",
      "execution_count": 4,
      "metadata": {
        "id": "DbJeHXhgLMsK"
      },
      "outputs": [],
      "source": [
        "# Perform data augmentation\n",
        "datagen = ImageDataGenerator(\n",
        "    rotation_range=15,\n",
        "    width_shift_range=0.1,\n",
        "    height_shift_range=0.1,\n",
        "    horizontal_flip=True,\n",
        "    vertical_flip=False\n",
        ")\n",
        "datagen.fit(x_train)"
      ]
    },
    {
      "cell_type": "code",
      "execution_count": 5,
      "metadata": {
        "id": "QR3v1FFH3Dwi"
      },
      "outputs": [],
      "source": [
        "#build CNN model\n",
        "model = keras.Sequential([\n",
        "    Conv2D(32, 3, activation='relu', padding='same', input_shape=(32, 32, 3)),\n",
        "    BatchNormalization(),\n",
        "    Dropout(0.2),\n",
        "    Conv2D(32, 3, activation='relu', padding='same'),\n",
        "    BatchNormalization(),\n",
        "    MaxPooling2D(2),\n",
        "    Conv2D(64, 3, activation='relu', padding='same'),\n",
        "    BatchNormalization(),\n",
        "    Dropout(0.3),\n",
        "    Conv2D(64, 3, activation='relu', padding='same'),\n",
        "    BatchNormalization(),\n",
        "    MaxPooling2D(2),\n",
        "    Conv2D(128, 3, activation='relu', padding='same'),\n",
        "    BatchNormalization(),\n",
        "    Dropout(0.4),\n",
        "    Conv2D(128, 3, activation='relu', padding='same'),\n",
        "    BatchNormalization(),\n",
        "    MaxPooling2D(2),\n",
        "    Flatten(),\n",
        "    Dense(256, kernel_regularizer=keras.regularizers.l2(0.001), activation='relu'),\n",
        "    Dropout(0.5),\n",
        "    BatchNormalization(),\n",
        "    Dense(128, kernel_regularizer=keras.regularizers.l2(0.001), activation='relu'),\n",
        "    Dropout(0.5),\n",
        "    BatchNormalization(),\n",
        "    Dense(10, activation='softmax')\n",
        "])\n",
        "\n",
        "\n"
      ]
    },
    {
      "cell_type": "code",
      "execution_count": 6,
      "metadata": {
        "id": "yVMQjkcqj9-N"
      },
      "outputs": [],
      "source": [
        "# Define learning rate schedule\n",
        "lr_schedule = ReduceLROnPlateau(monitor='val_accuracy',\n",
        "                                factor=0.1,\n",
        "                                patience=5,\n",
        "                                min_lr=0.0001)\n"
      ]
    },
    {
      "cell_type": "code",
      "execution_count": 7,
      "metadata": {
        "id": "doFnTEbez-ra"
      },
      "outputs": [],
      "source": [
        "# compile  the model\n",
        "model.compile(optimizer='adam',\n",
        "              loss='categorical_crossentropy',\n",
        "              metrics=['accuracy'])\n"
      ]
    },
    {
      "cell_type": "code",
      "execution_count": 8,
      "metadata": {
        "colab": {
          "base_uri": "https://localhost:8080/"
        },
        "id": "thk29fjM0l3N",
        "outputId": "9fdeeeba-ec36-41cb-869d-67dcb085b852"
      },
      "outputs": [
        {
          "output_type": "stream",
          "name": "stdout",
          "text": [
            "Epoch 1/30\n",
            "1250/1250 [==============================] - 31s 12ms/step - loss: 2.3352 - accuracy: 0.3433 - val_loss: 1.8202 - val_accuracy: 0.4698 - lr: 0.0010\n",
            "Epoch 2/30\n",
            "1250/1250 [==============================] - 13s 10ms/step - loss: 1.6940 - accuracy: 0.5056 - val_loss: 1.5556 - val_accuracy: 0.5377 - lr: 0.0010\n",
            "Epoch 3/30\n",
            "1250/1250 [==============================] - 13s 10ms/step - loss: 1.4593 - accuracy: 0.5784 - val_loss: 1.3126 - val_accuracy: 0.6352 - lr: 0.0010\n",
            "Epoch 4/30\n",
            "1250/1250 [==============================] - 13s 11ms/step - loss: 1.3488 - accuracy: 0.6332 - val_loss: 1.1639 - val_accuracy: 0.6867 - lr: 0.0010\n",
            "Epoch 5/30\n",
            "1250/1250 [==============================] - 13s 10ms/step - loss: 1.2694 - accuracy: 0.6646 - val_loss: 1.0721 - val_accuracy: 0.7261 - lr: 0.0010\n",
            "Epoch 6/30\n",
            "1250/1250 [==============================] - 13s 10ms/step - loss: 1.2346 - accuracy: 0.6890 - val_loss: 1.0823 - val_accuracy: 0.7412 - lr: 0.0010\n",
            "Epoch 7/30\n",
            "1250/1250 [==============================] - 14s 11ms/step - loss: 1.1633 - accuracy: 0.7151 - val_loss: 1.4475 - val_accuracy: 0.6173 - lr: 0.0010\n",
            "Epoch 8/30\n",
            "1250/1250 [==============================] - 13s 10ms/step - loss: 1.1155 - accuracy: 0.7327 - val_loss: 0.9766 - val_accuracy: 0.7764 - lr: 0.0010\n",
            "Epoch 9/30\n",
            "1250/1250 [==============================] - 14s 11ms/step - loss: 1.0845 - accuracy: 0.7454 - val_loss: 0.9437 - val_accuracy: 0.7856 - lr: 0.0010\n",
            "Epoch 10/30\n",
            "1250/1250 [==============================] - 13s 11ms/step - loss: 1.0376 - accuracy: 0.7614 - val_loss: 0.9363 - val_accuracy: 0.7888 - lr: 0.0010\n",
            "Epoch 11/30\n",
            "1250/1250 [==============================] - 13s 11ms/step - loss: 1.0177 - accuracy: 0.7704 - val_loss: 1.0687 - val_accuracy: 0.7436 - lr: 0.0010\n",
            "Epoch 12/30\n",
            "1250/1250 [==============================] - 13s 10ms/step - loss: 0.9973 - accuracy: 0.7760 - val_loss: 0.9940 - val_accuracy: 0.7734 - lr: 0.0010\n",
            "Epoch 13/30\n",
            "1250/1250 [==============================] - 13s 11ms/step - loss: 0.9898 - accuracy: 0.7817 - val_loss: 0.9295 - val_accuracy: 0.8002 - lr: 0.0010\n",
            "Epoch 14/30\n",
            "1250/1250 [==============================] - 13s 10ms/step - loss: 0.9684 - accuracy: 0.7901 - val_loss: 0.9180 - val_accuracy: 0.7944 - lr: 0.0010\n",
            "Epoch 15/30\n",
            "1250/1250 [==============================] - 13s 11ms/step - loss: 0.9512 - accuracy: 0.7962 - val_loss: 0.9046 - val_accuracy: 0.8061 - lr: 0.0010\n",
            "Epoch 16/30\n",
            "1250/1250 [==============================] - 13s 10ms/step - loss: 0.9462 - accuracy: 0.7979 - val_loss: 0.9137 - val_accuracy: 0.8015 - lr: 0.0010\n",
            "Epoch 17/30\n",
            "1250/1250 [==============================] - 13s 11ms/step - loss: 0.9399 - accuracy: 0.8039 - val_loss: 0.8721 - val_accuracy: 0.8160 - lr: 0.0010\n",
            "Epoch 18/30\n",
            "1250/1250 [==============================] - 13s 10ms/step - loss: 0.9247 - accuracy: 0.8080 - val_loss: 0.8541 - val_accuracy: 0.8282 - lr: 0.0010\n",
            "Epoch 19/30\n",
            "1250/1250 [==============================] - 13s 10ms/step - loss: 0.8986 - accuracy: 0.8155 - val_loss: 0.8577 - val_accuracy: 0.8201 - lr: 0.0010\n",
            "Epoch 20/30\n",
            "1250/1250 [==============================] - 13s 11ms/step - loss: 0.8998 - accuracy: 0.8181 - val_loss: 0.8591 - val_accuracy: 0.8251 - lr: 0.0010\n",
            "Epoch 21/30\n",
            "1250/1250 [==============================] - 13s 10ms/step - loss: 0.8906 - accuracy: 0.8192 - val_loss: 0.9052 - val_accuracy: 0.8052 - lr: 0.0010\n",
            "Epoch 22/30\n",
            "1250/1250 [==============================] - 13s 10ms/step - loss: 0.8669 - accuracy: 0.8256 - val_loss: 0.8684 - val_accuracy: 0.8201 - lr: 0.0010\n",
            "Epoch 23/30\n",
            "1250/1250 [==============================] - 13s 10ms/step - loss: 0.8598 - accuracy: 0.8295 - val_loss: 0.8510 - val_accuracy: 0.8258 - lr: 0.0010\n",
            "Epoch 24/30\n",
            "1250/1250 [==============================] - 13s 11ms/step - loss: 0.7568 - accuracy: 0.8551 - val_loss: 0.7181 - val_accuracy: 0.8524 - lr: 1.0000e-04\n",
            "Epoch 25/30\n",
            "1250/1250 [==============================] - 13s 11ms/step - loss: 0.6698 - accuracy: 0.8680 - val_loss: 0.6731 - val_accuracy: 0.8526 - lr: 1.0000e-04\n",
            "Epoch 26/30\n",
            "1250/1250 [==============================] - 14s 12ms/step - loss: 0.6148 - accuracy: 0.8747 - val_loss: 0.6320 - val_accuracy: 0.8562 - lr: 1.0000e-04\n",
            "Epoch 27/30\n",
            "1250/1250 [==============================] - 13s 11ms/step - loss: 0.5745 - accuracy: 0.8784 - val_loss: 0.6053 - val_accuracy: 0.8577 - lr: 1.0000e-04\n",
            "Epoch 28/30\n",
            "1250/1250 [==============================] - 13s 11ms/step - loss: 0.5402 - accuracy: 0.8820 - val_loss: 0.5822 - val_accuracy: 0.8587 - lr: 1.0000e-04\n",
            "Epoch 29/30\n",
            "1250/1250 [==============================] - 13s 11ms/step - loss: 0.5143 - accuracy: 0.8840 - val_loss: 0.5680 - val_accuracy: 0.8572 - lr: 1.0000e-04\n",
            "Epoch 30/30\n",
            "1250/1250 [==============================] - 13s 11ms/step - loss: 0.4967 - accuracy: 0.8874 - val_loss: 0.5568 - val_accuracy: 0.8572 - lr: 1.0000e-04\n"
          ]
        },
        {
          "output_type": "execute_result",
          "data": {
            "text/plain": [
              "<keras.callbacks.History at 0x7f766f71fd00>"
            ]
          },
          "metadata": {},
          "execution_count": 8
        }
      ],
      "source": [
        "#train the model\n",
        "model.fit(x_train, y_train, epochs=30, validation_split=0.2, callbacks=[lr_schedule])\n"
      ]
    },
    {
      "cell_type": "code",
      "execution_count": 9,
      "metadata": {
        "colab": {
          "base_uri": "https://localhost:8080/"
        },
        "id": "zEU_IkwH3d3k",
        "outputId": "3a381b21-750a-4831-87e6-6b660d254405"
      },
      "outputs": [
        {
          "output_type": "stream",
          "name": "stdout",
          "text": [
            "313/313 [==============================] - 1s 4ms/step - loss: 0.5660 - accuracy: 0.8572\n",
            "Test accuracy: 0.857200026512146\n",
            "Test loss: 0.5659857392311096\n"
          ]
        }
      ],
      "source": [
        "# evaluate the model\n",
        "test_loss, test_acc = model.evaluate(x_test, y_test)\n",
        "\n",
        "print('Test accuracy:', test_acc)\n",
        "print('Test loss:', test_loss)"
      ]
    },
    {
      "cell_type": "code",
      "source": [
        "# Visualize some sample predictions\n",
        "num_samples = 5\n",
        "sample_indices = np.random.randint(0, len(x_test), num_samples)\n",
        "sample_images = x_test[sample_indices]\n",
        "sample_labels = y_test[sample_indices]\n",
        "\n",
        "predictions = model.predict(sample_images)\n",
        "predicted_labels = np.argmax(predictions, axis=1)\n",
        "\n",
        "class_names = ['airplane', 'automobile', 'bird', 'cat', 'deer', 'dog', 'frog', 'horse', 'ship', 'truck']\n",
        "\n",
        "plt.figure(figsize=(10, 5))\n",
        "for i in range(num_samples):\n",
        "    plt.subplot(1, num_samples, i + 1)\n",
        "    plt.imshow(sample_images[i])\n",
        "    plt.title(f'True: {class_names[np.argmax(sample_labels[i])]} \\nPredicted: {class_names[predicted_labels[i]]}')\n",
        "    plt.axis('off')\n",
        "plt.show()\n"
      ],
      "metadata": {
        "colab": {
          "base_uri": "https://localhost:8080/",
          "height": 230
        },
        "id": "2dgGzhmu3GF1",
        "outputId": "bc24cca6-3bd0-4c32-c0e5-41e621bf18c1"
      },
      "execution_count": 11,
      "outputs": [
        {
          "output_type": "stream",
          "name": "stdout",
          "text": [
            "1/1 [==============================] - 0s 389ms/step\n"
          ]
        },
        {
          "output_type": "display_data",
          "data": {
            "text/plain": [
              "<Figure size 1000x500 with 5 Axes>"
            ],
            "image/png": "[encoded data removed]"
          },
          "metadata": {}
        }
      ]
    }
  ],
  "metadata": {
    "accelerator": "GPU",
    "colab": {
      "provenance": [],
      "authorship_tag": "ABX9TyNqPQmO5ghyHSSck8eB+Rwm",
      "include_colab_link": true
    },
    "kernelspec": {
      "display_name": "Python 3",
      "name": "python3"
    },
    "language_info": {
      "name": "python"
    }
  },
  "nbformat": 4,
  "nbformat_minor": 0
}