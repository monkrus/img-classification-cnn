{
  "nbformat": 4,
  "nbformat_minor": 0,
  "metadata": {
    "colab": {
      "provenance": [],
      "gpuType": "T4",
      "authorship_tag": "ABX9TyMQZG6eduH02vbRIczlO0o/",
      "include_colab_link": true
    },
    "kernelspec": {
      "name": "python3",
      "display_name": "Python 3"
    },
    "language_info": {
      "name": "python"
    },
    "accelerator": "GPU"
  },
  "cells": [
    {
      "cell_type": "markdown",
      "metadata": {
        "id": "view-in-github",
        "colab_type": "text"
      },
      "source": [
        "<a href=\"https://colab.research.google.com/github/monkrus/img-classification-cnn/blob/main/ImageClassificationCNN1.ipynb\" target=\"_parent\"><img src=\"https://colab.research.google.com/assets/colab-badge.svg\" alt=\"Open In Colab\"/></a>"
      ]
    },
    {
      "cell_type": "code",
      "execution_count": 2,
      "metadata": {
        "id": "c38FblStwt7l"
      },
      "outputs": [],
      "source": [
        "import tensorflow as tf\n",
        "from tensorflow import keras\n",
        "from keras.layers import Conv2D, MaxPooling2D, Dense, Flatten,Dropout\n",
        "\n"
      ]
    },
    {
      "cell_type": "code",
      "source": [
        "#load the CIFAR10 dataset\n",
        "# datase is spit into 2 sets\n",
        "# train set is used to train the model\n",
        "# test set is used to test the model\n",
        "# x_train is a NumPy array containing the input images\n",
        "# y_train is a array of labels indicating the class of each image.\n",
        "\n",
        "cifar10 = keras.datasets.cifar10\n",
        "(x_train, y_train), (x_test, y_test) = cifar10.load_data()\n"
      ],
      "metadata": {
        "colab": {
          "base_uri": "https://localhost:8080/"
        },
        "id": "7cHbZapVxD8g",
        "outputId": "7477f54a-e228-4378-a016-a11d2fa0a5a0"
      },
      "execution_count": 3,
      "outputs": [
        {
          "output_type": "stream",
          "name": "stdout",
          "text": [
            "Downloading data from https://www.cs.toronto.edu/~kriz/cifar-10-python.tar.gz\n",
            "170498071/170498071 [==============================] - 3s 0us/step\n"
          ]
        }
      ]
    },
    {
      "cell_type": "code",
      "source": [
        "#preprocess the data\n",
        "x_train = x_train.astype('float32')/255.0\n",
        "x_test = x_test.astype('float32')/255.0\n",
        "\n",
        "y_train = keras.utils.to_categorical(y_train, 10)\n",
        "y_test = keras.utils.to_categorical(y_test, 10)\n"
      ],
      "metadata": {
        "id": "KPiozA1e03Be"
      },
      "execution_count": 4,
      "outputs": []
    },
    {
      "cell_type": "code",
      "source": [
        "#build CNN model\n",
        "# create a sequential model, a linear stack of layers.\n",
        "# 32 represents the number of filters or feature maps the layer will learn.\n",
        "# 3 indicates the size of the filters (3x3 in this case).\n",
        "# Rectified Linear Unit is chosen because:#\n",
        "\n",
        "# MaxPooling2D layer performs downsampling by taking the maximum value within each region of the input.\n",
        "# The 2 argument indicates the size of the pooling window (2x2).\n",
        "# Max pooling reduces the spatial dimensions of the feature maps, focusing on the most important features while discarding some spatial information.\n",
        "# The previous two lines (Conv2D and MaxPooling2D) are repeated twice more. This stacking of convolutional and pooling layers allows the model to learn increasingly complex and abstract representations of the input data.\n",
        "\n",
        "# Flatten(): This line adds a flattening layer to the model.\n",
        "# The Flatten layer reshapes the 2D feature maps into a 1D vector, which is required as input for the subsequent dense layers.\n",
        "# Dense(64, activation='relu'): This line adds a fully connected dense layer to the model.\n",
        "# The Dense layer connects every neuron from the previous layer to the neurons in this layer.\n",
        "# The first argument, 64, represents the number of neurons in this layer.\n",
        "# The 10 argument indicates the number of neurons in this layer,\n",
        "# which corresponds to the number of classes in the classification task.\n",
        "# The activation='softmax' parameter applies the softmax function to the output, which produces a probability distribution over the classes, allowing the model to predict the most likely class for a given input.\n",
        "\n",
        "model = keras.Sequential([\n",
        "    Conv2D(32, 3,activation='relu', padding='same'),\n",
        "    MaxPooling2D(2),\n",
        "\n",
        "    Conv2D(32, 3,activation='relu', padding='same'),\n",
        "    MaxPooling2D(2),\n",
        "\n",
        "    Conv2D(32, 3,activation='relu', padding='same'),\n",
        "    MaxPooling2D(2),\n",
        "\n",
        "    Flatten(),\n",
        "    Dense(64, activation='relu'),\n",
        "    #Dropout(0.25),\n",
        "    Dense(10, activation='softmax')\n",
        "\n",
        "])\n"
      ],
      "metadata": {
        "id": "QR3v1FFH3Dwi"
      },
      "execution_count": 5,
      "outputs": []
    },
    {
      "cell_type": "code",
      "source": [
        "# compile  the model\n",
        "model.compile(optimizer='adam', loss='categorical_crossentropy', metrics=['accuracy'])"
      ],
      "metadata": {
        "id": "doFnTEbez-ra"
      },
      "execution_count": 6,
      "outputs": []
    },
    {
      "cell_type": "code",
      "source": [
        "#train the model\n",
        "model.fit(x_train, y_train, epochs=10, validation_split=0.2)"
      ],
      "metadata": {
        "colab": {
          "base_uri": "https://localhost:8080/"
        },
        "id": "thk29fjM0l3N",
        "outputId": "598a227c-f94d-4d21-c482-3868fdda34ad"
      },
      "execution_count": 7,
      "outputs": [
        {
          "output_type": "stream",
          "name": "stdout",
          "text": [
            "Epoch 1/10\n",
            "1250/1250 [==============================] - 19s 6ms/step - loss: 1.5739 - accuracy: 0.4254 - val_loss: 1.4044 - val_accuracy: 0.4912\n",
            "Epoch 2/10\n",
            "1250/1250 [==============================] - 6s 5ms/step - loss: 1.2217 - accuracy: 0.5634 - val_loss: 1.1465 - val_accuracy: 0.5972\n",
            "Epoch 3/10\n",
            "1250/1250 [==============================] - 6s 5ms/step - loss: 1.0705 - accuracy: 0.6198 - val_loss: 1.0550 - val_accuracy: 0.6386\n",
            "Epoch 4/10\n",
            "1250/1250 [==============================] - 6s 5ms/step - loss: 0.9682 - accuracy: 0.6593 - val_loss: 1.0028 - val_accuracy: 0.6530\n",
            "Epoch 5/10\n",
            "1250/1250 [==============================] - 7s 6ms/step - loss: 0.9004 - accuracy: 0.6847 - val_loss: 0.9841 - val_accuracy: 0.6669\n",
            "Epoch 6/10\n",
            "1250/1250 [==============================] - 6s 5ms/step - loss: 0.8442 - accuracy: 0.7023 - val_loss: 0.9425 - val_accuracy: 0.6729\n",
            "Epoch 7/10\n",
            "1250/1250 [==============================] - 7s 6ms/step - loss: 0.8038 - accuracy: 0.7159 - val_loss: 0.9389 - val_accuracy: 0.6737\n",
            "Epoch 8/10\n",
            "1250/1250 [==============================] - 6s 5ms/step - loss: 0.7616 - accuracy: 0.7315 - val_loss: 0.8673 - val_accuracy: 0.6974\n",
            "Epoch 9/10\n",
            "1250/1250 [==============================] - 7s 6ms/step - loss: 0.7249 - accuracy: 0.7427 - val_loss: 0.8650 - val_accuracy: 0.7045\n",
            "Epoch 10/10\n",
            "1250/1250 [==============================] - 6s 5ms/step - loss: 0.6943 - accuracy: 0.7553 - val_loss: 0.8687 - val_accuracy: 0.7057\n"
          ]
        },
        {
          "output_type": "execute_result",
          "data": {
            "text/plain": [
              "<keras.callbacks.History at 0x7f83000dd240>"
            ]
          },
          "metadata": {},
          "execution_count": 7
        }
      ]
    },
    {
      "cell_type": "code",
      "source": [
        "# evaluate the model\n",
        "test_loss, test_acc = model.evaluate(x_test, y_test)\n",
        "print('Test accuracy:', test_acc)\n",
        "print('Test loss:', test_loss)"
      ],
      "metadata": {
        "colab": {
          "base_uri": "https://localhost:8080/"
        },
        "id": "zEU_IkwH3d3k",
        "outputId": "70036127-38f2-447a-8d62-b605d3569525"
      },
      "execution_count": 8,
      "outputs": [
        {
          "output_type": "stream",
          "name": "stdout",
          "text": [
            "313/313 [==============================] - 1s 3ms/step - loss: 0.8770 - accuracy: 0.7050\n",
            "Test accuracy: 0.7049999833106995\n",
            "Test loss: 0.8769986033439636\n"
          ]
        }
      ]
    }
  ]
}