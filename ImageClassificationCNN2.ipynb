{
  "nbformat": 4,
  "nbformat_minor": 0,
  "metadata": {
    "colab": {
      "provenance": [],
      "gpuType": "T4",
      "authorship_tag": "ABX9TyM9eP88BDk5pkdKYYhO26ZB",
      "include_colab_link": true
    },
    "kernelspec": {
      "name": "python3",
      "display_name": "Python 3"
    },
    "language_info": {
      "name": "python"
    },
    "accelerator": "GPU"
  },
  "cells": [
    {
      "cell_type": "markdown",
      "metadata": {
        "id": "view-in-github",
        "colab_type": "text"
      },
      "source": [
        "<a href=\"https://colab.research.google.com/github/monkrus/img-classification-cnn/blob/main/ImageClassificationCNN2.ipynb\" target=\"_parent\"><img src=\"https://colab.research.google.com/assets/colab-badge.svg\" alt=\"Open In Colab\"/></a>"
      ]
    },
    {
      "cell_type": "code",
      "execution_count": 1,
      "metadata": {
        "id": "c38FblStwt7l"
      },
      "outputs": [],
      "source": [
        "import tensorflow as tf\n",
        "from tensorflow import keras\n",
        "from keras.layers import Conv2D, MaxPooling2D, Dense, Flatten, Dropout, BatchNormalization\n",
        "from keras.callbacks import ReduceLROnPlateau"
      ]
    },
    {
      "cell_type": "code",
      "source": [
        "#load the CIFAR10 dataset\n",
        "cifar10 = keras.datasets.cifar10\n",
        "(x_train, y_train), (x_test, y_test) = cifar10.load_data()\n"
      ],
      "metadata": {
        "colab": {
          "base_uri": "https://localhost:8080/"
        },
        "id": "7cHbZapVxD8g",
        "outputId": "61c3c5c0-5078-41c7-d57d-ce8e193ca124"
      },
      "execution_count": 2,
      "outputs": [
        {
          "output_type": "stream",
          "name": "stdout",
          "text": [
            "Downloading data from https://www.cs.toronto.edu/~kriz/cifar-10-python.tar.gz\n",
            "170498071/170498071 [==============================] - 13s 0us/step\n"
          ]
        }
      ]
    },
    {
      "cell_type": "code",
      "source": [
        "#preprocess the data\n",
        "x_train = x_train.astype('float32') / 255.0\n",
        "x_test = x_test.astype('float32') / 255.0\n",
        "\n",
        "y_train = keras.utils.to_categorical(y_train, 10)\n",
        "y_test = keras.utils.to_categorical(y_test, 10)\n"
      ],
      "metadata": {
        "id": "KPiozA1e03Be"
      },
      "execution_count": 3,
      "outputs": []
    },
    {
      "cell_type": "code",
      "source": [
        "#build CNN model\n",
        "model = keras.Sequential([\n",
        "    Conv2D(32, 3, activation='relu', padding='same', input_shape=(32, 32, 3)),\n",
        "    BatchNormalization(),\n",
        "    Conv2D(32, 3, activation='relu', padding='same'),\n",
        "    BatchNormalization(),\n",
        "    MaxPooling2D(2),\n",
        "    Conv2D(64, 3, activation='relu', padding='same'),\n",
        "    BatchNormalization(),\n",
        "    Conv2D(64, 3, activation='relu', padding='same'),\n",
        "    BatchNormalization(),\n",
        "    MaxPooling2D(2),\n",
        "    Conv2D(128, 3, activation='relu', padding='same'),\n",
        "    BatchNormalization(),\n",
        "    Conv2D(128, 3, activation='relu', padding='same'),\n",
        "    BatchNormalization(),\n",
        "    MaxPooling2D(2),\n",
        "    Flatten(),\n",
        "    Dense(256, activation='relu'),\n",
        "    Dropout(0.5),\n",
        "    BatchNormalization(),\n",
        "    Dense(128, activation='relu'),\n",
        "    Dropout(0.5),\n",
        "    BatchNormalization(),\n",
        "    Dense(10, activation='softmax')\n",
        "])\n"
      ],
      "metadata": {
        "id": "QR3v1FFH3Dwi"
      },
      "execution_count": 4,
      "outputs": []
    },
    {
      "cell_type": "code",
      "source": [
        "# Define learning rate schedule\n",
        "lr_schedule = ReduceLROnPlateau(monitor='val_accuracy',\n",
        "                                factor=0.1,\n",
        "                                patience=5,\n",
        "                                min_lr=0.0001)\n"
      ],
      "metadata": {
        "id": "yVMQjkcqj9-N"
      },
      "execution_count": 5,
      "outputs": []
    },
    {
      "cell_type": "code",
      "source": [
        "# compile  the model\n",
        "model.compile(optimizer='adam',\n",
        "              loss='categorical_crossentropy',\n",
        "              metrics=['accuracy'])\n"
      ],
      "metadata": {
        "id": "doFnTEbez-ra"
      },
      "execution_count": 6,
      "outputs": []
    },
    {
      "cell_type": "code",
      "source": [
        "#train the model\n",
        "model.fit(x_train, y_train, epochs=10, validation_split=0.2, callbacks=[lr_schedule])\n"
      ],
      "metadata": {
        "colab": {
          "base_uri": "https://localhost:8080/"
        },
        "id": "thk29fjM0l3N",
        "outputId": "0dc90c67-419e-4962-a7ed-9b11d1302096"
      },
      "execution_count": 7,
      "outputs": [
        {
          "output_type": "stream",
          "name": "stdout",
          "text": [
            "Epoch 1/10\n",
            "1250/1250 [==============================] - 30s 11ms/step - loss: 1.6974 - accuracy: 0.3968 - val_loss: 1.3340 - val_accuracy: 0.5201 - lr: 0.0010\n",
            "Epoch 2/10\n",
            "1250/1250 [==============================] - 12s 10ms/step - loss: 1.2368 - accuracy: 0.5639 - val_loss: 1.0737 - val_accuracy: 0.6220 - lr: 0.0010\n",
            "Epoch 3/10\n",
            "1250/1250 [==============================] - 12s 9ms/step - loss: 1.0490 - accuracy: 0.6372 - val_loss: 1.0520 - val_accuracy: 0.6272 - lr: 0.0010\n",
            "Epoch 4/10\n",
            "1250/1250 [==============================] - 12s 10ms/step - loss: 0.9222 - accuracy: 0.6871 - val_loss: 0.9325 - val_accuracy: 0.6828 - lr: 0.0010\n",
            "Epoch 5/10\n",
            "1250/1250 [==============================] - 11s 9ms/step - loss: 0.8329 - accuracy: 0.7199 - val_loss: 0.6891 - val_accuracy: 0.7592 - lr: 0.0010\n",
            "Epoch 6/10\n",
            "1250/1250 [==============================] - 11s 9ms/step - loss: 0.7382 - accuracy: 0.7560 - val_loss: 0.6370 - val_accuracy: 0.7812 - lr: 0.0010\n",
            "Epoch 7/10\n",
            "1250/1250 [==============================] - 12s 9ms/step - loss: 0.6609 - accuracy: 0.7816 - val_loss: 0.6210 - val_accuracy: 0.7878 - lr: 0.0010\n",
            "Epoch 8/10\n",
            "1250/1250 [==============================] - 11s 9ms/step - loss: 0.6183 - accuracy: 0.7962 - val_loss: 0.6176 - val_accuracy: 0.7912 - lr: 0.0010\n",
            "Epoch 9/10\n",
            "1250/1250 [==============================] - 11s 9ms/step - loss: 0.5603 - accuracy: 0.8152 - val_loss: 0.6386 - val_accuracy: 0.7824 - lr: 0.0010\n",
            "Epoch 10/10\n",
            "1250/1250 [==============================] - 12s 10ms/step - loss: 0.5129 - accuracy: 0.8310 - val_loss: 0.5768 - val_accuracy: 0.8065 - lr: 0.0010\n"
          ]
        },
        {
          "output_type": "execute_result",
          "data": {
            "text/plain": [
              "<keras.callbacks.History at 0x7fabc8204190>"
            ]
          },
          "metadata": {},
          "execution_count": 7
        }
      ]
    },
    {
      "cell_type": "code",
      "source": [
        "# evaluate the model\n",
        "test_loss, test_acc = model.evaluate(x_test, y_test)\n",
        "\n",
        "print('Test accuracy:', test_acc)\n",
        "print('Test loss:', test_loss)"
      ],
      "metadata": {
        "colab": {
          "base_uri": "https://localhost:8080/"
        },
        "id": "zEU_IkwH3d3k",
        "outputId": "3dc69cce-567f-46f3-b04f-f1d41e8c5720"
      },
      "execution_count": 8,
      "outputs": [
        {
          "output_type": "stream",
          "name": "stdout",
          "text": [
            "313/313 [==============================] - 1s 4ms/step - loss: 0.6024 - accuracy: 0.8025\n",
            "Test accuracy: 0.8025000095367432\n",
            "Test loss: 0.6023601293563843\n"
          ]
        }
      ]
    }
  ]
}