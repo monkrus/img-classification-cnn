{
  "cells": [
    {
      "cell_type": "markdown",
      "metadata": {
        "id": "view-in-github",
        "colab_type": "text"
      },
      "source": [
        "<a href=\"https://colab.research.google.com/github/monkrus/img-classification-cnn/blob/main/ImageClassificationCNN4.ipynb\" target=\"_parent\"><img src=\"https://colab.research.google.com/assets/colab-badge.svg\" alt=\"Open In Colab\"/></a>"
      ]
    },
    {
      "cell_type": "code",
      "execution_count": 9,
      "metadata": {
        "id": "c38FblStwt7l"
      },
      "outputs": [],
      "source": [
        "import tensorflow as tf\n",
        "from tensorflow import keras\n",
        "from keras.layers import Conv2D, MaxPooling2D, Dense, Flatten, Dropout, BatchNormalization\n",
        "from keras.callbacks import ReduceLROnPlateau\n",
        "from keras.preprocessing.image import ImageDataGenerator"
      ]
    },
    {
      "cell_type": "code",
      "execution_count": 10,
      "metadata": {
        "id": "7cHbZapVxD8g"
      },
      "outputs": [],
      "source": [
        "#load the CIFAR10 dataset\n",
        "cifar10 = keras.datasets.cifar10\n",
        "(x_train, y_train), (x_test, y_test) = cifar10.load_data()\n"
      ]
    },
    {
      "cell_type": "code",
      "execution_count": 11,
      "metadata": {
        "id": "KPiozA1e03Be"
      },
      "outputs": [],
      "source": [
        "#preprocess the data\n",
        "x_train = x_train.astype('float32') / 255.0\n",
        "x_test = x_test.astype('float32') / 255.0\n",
        "\n",
        "y_train = keras.utils.to_categorical(y_train, 10)\n",
        "y_test = keras.utils.to_categorical(y_test, 10)\n"
      ]
    },
    {
      "cell_type": "code",
      "execution_count": 12,
      "metadata": {
        "id": "DbJeHXhgLMsK"
      },
      "outputs": [],
      "source": [
        "# Perform data augmentation\n",
        "datagen = ImageDataGenerator(\n",
        "    rotation_range=15,\n",
        "    width_shift_range=0.1,\n",
        "    height_shift_range=0.1,\n",
        "    horizontal_flip=True,\n",
        "    vertical_flip=False\n",
        ")\n",
        "datagen.fit(x_train)"
      ]
    },
    {
      "cell_type": "code",
      "execution_count": 13,
      "metadata": {
        "id": "QR3v1FFH3Dwi"
      },
      "outputs": [],
      "source": [
        "#build CNN model\n",
        "model = keras.Sequential([\n",
        "    Conv2D(32, 3, activation='relu', padding='same', input_shape=(32, 32, 3)),\n",
        "    BatchNormalization(),\n",
        "    Dropout(0.2),\n",
        "    Conv2D(32, 3, activation='relu', padding='same'),\n",
        "    BatchNormalization(),\n",
        "    MaxPooling2D(2),\n",
        "    Conv2D(64, 3, activation='relu', padding='same'),\n",
        "    BatchNormalization(),\n",
        "    Dropout(0.3),\n",
        "    Conv2D(64, 3, activation='relu', padding='same'),\n",
        "    BatchNormalization(),\n",
        "    MaxPooling2D(2),\n",
        "    Conv2D(128, 3, activation='relu', padding='same'),\n",
        "    BatchNormalization(),\n",
        "    Dropout(0.4),\n",
        "    Conv2D(128, 3, activation='relu', padding='same'),\n",
        "    BatchNormalization(),\n",
        "    MaxPooling2D(2),\n",
        "    Flatten(),\n",
        "    Dense(256, kernel_regularizer=keras.regularizers.l2(0.001), activation='relu'),\n",
        "    Dropout(0.5),\n",
        "    BatchNormalization(),\n",
        "    Dense(128, kernel_regularizer=keras.regularizers.l2(0.001), activation='relu'),\n",
        "    Dropout(0.5),\n",
        "    BatchNormalization(),\n",
        "    Dense(10, activation='softmax')\n",
        "])\n",
        "\n",
        "\n"
      ]
    },
    {
      "cell_type": "code",
      "execution_count": 14,
      "metadata": {
        "id": "yVMQjkcqj9-N"
      },
      "outputs": [],
      "source": [
        "# Define learning rate schedule\n",
        "lr_schedule = ReduceLROnPlateau(monitor='val_accuracy',\n",
        "                                factor=0.1,\n",
        "                                patience=5,\n",
        "                                min_lr=0.0001)\n"
      ]
    },
    {
      "cell_type": "code",
      "execution_count": 15,
      "metadata": {
        "id": "doFnTEbez-ra"
      },
      "outputs": [],
      "source": [
        "# compile  the model\n",
        "model.compile(optimizer='adam',\n",
        "              loss='categorical_crossentropy',\n",
        "              metrics=['accuracy'])\n"
      ]
    },
    {
      "cell_type": "code",
      "execution_count": 16,
      "metadata": {
        "colab": {
          "base_uri": "https://localhost:8080/"
        },
        "id": "thk29fjM0l3N",
        "outputId": "57c208ad-b6ad-4b27-b9ab-b94e1d013c44"
      },
      "outputs": [
        {
          "output_type": "stream",
          "name": "stdout",
          "text": [
            "Epoch 1/30\n",
            "1250/1250 [==============================] - 30s 11ms/step - loss: 2.3506 - accuracy: 0.3331 - val_loss: 1.9088 - val_accuracy: 0.4384 - lr: 0.0010\n",
            "Epoch 2/30\n",
            "1250/1250 [==============================] - 13s 10ms/step - loss: 1.7015 - accuracy: 0.5027 - val_loss: 1.5748 - val_accuracy: 0.5279 - lr: 0.0010\n",
            "Epoch 3/30\n",
            "1250/1250 [==============================] - 13s 11ms/step - loss: 1.4905 - accuracy: 0.5784 - val_loss: 1.3534 - val_accuracy: 0.6192 - lr: 0.0010\n",
            "Epoch 4/30\n",
            "1250/1250 [==============================] - 13s 11ms/step - loss: 1.3425 - accuracy: 0.6334 - val_loss: 1.2017 - val_accuracy: 0.6696 - lr: 0.0010\n",
            "Epoch 5/30\n",
            "1250/1250 [==============================] - 14s 11ms/step - loss: 1.2485 - accuracy: 0.6731 - val_loss: 1.2356 - val_accuracy: 0.6598 - lr: 0.0010\n",
            "Epoch 6/30\n",
            "1250/1250 [==============================] - 13s 11ms/step - loss: 1.1959 - accuracy: 0.6967 - val_loss: 1.1087 - val_accuracy: 0.7228 - lr: 0.0010\n",
            "Epoch 7/30\n",
            "1250/1250 [==============================] - 13s 11ms/step - loss: 1.1468 - accuracy: 0.7182 - val_loss: 1.1179 - val_accuracy: 0.7189 - lr: 0.0010\n",
            "Epoch 8/30\n",
            "1250/1250 [==============================] - 13s 10ms/step - loss: 1.1215 - accuracy: 0.7295 - val_loss: 0.9991 - val_accuracy: 0.7687 - lr: 0.0010\n",
            "Epoch 9/30\n",
            "1250/1250 [==============================] - 13s 11ms/step - loss: 1.0768 - accuracy: 0.7469 - val_loss: 0.9555 - val_accuracy: 0.7795 - lr: 0.0010\n",
            "Epoch 10/30\n",
            "1250/1250 [==============================] - 13s 11ms/step - loss: 1.0545 - accuracy: 0.7562 - val_loss: 1.0008 - val_accuracy: 0.7680 - lr: 0.0010\n",
            "Epoch 11/30\n",
            "1250/1250 [==============================] - 13s 10ms/step - loss: 1.0170 - accuracy: 0.7689 - val_loss: 0.9758 - val_accuracy: 0.7759 - lr: 0.0010\n",
            "Epoch 12/30\n",
            "1250/1250 [==============================] - 13s 11ms/step - loss: 0.9984 - accuracy: 0.7780 - val_loss: 0.9244 - val_accuracy: 0.7997 - lr: 0.0010\n",
            "Epoch 13/30\n",
            "1250/1250 [==============================] - 13s 11ms/step - loss: 0.9964 - accuracy: 0.7818 - val_loss: 0.9440 - val_accuracy: 0.7982 - lr: 0.0010\n",
            "Epoch 14/30\n",
            "1250/1250 [==============================] - 13s 11ms/step - loss: 0.9602 - accuracy: 0.7923 - val_loss: 0.9076 - val_accuracy: 0.8019 - lr: 0.0010\n",
            "Epoch 15/30\n",
            "1250/1250 [==============================] - 13s 10ms/step - loss: 0.9433 - accuracy: 0.7961 - val_loss: 0.8752 - val_accuracy: 0.8165 - lr: 0.0010\n",
            "Epoch 16/30\n",
            "1250/1250 [==============================] - 13s 10ms/step - loss: 0.9362 - accuracy: 0.8022 - val_loss: 0.9054 - val_accuracy: 0.8012 - lr: 0.0010\n",
            "Epoch 17/30\n",
            "1250/1250 [==============================] - 13s 10ms/step - loss: 0.9277 - accuracy: 0.8034 - val_loss: 0.9326 - val_accuracy: 0.7924 - lr: 0.0010\n",
            "Epoch 18/30\n",
            "1250/1250 [==============================] - 13s 10ms/step - loss: 0.9046 - accuracy: 0.8094 - val_loss: 0.9210 - val_accuracy: 0.8004 - lr: 0.0010\n",
            "Epoch 19/30\n",
            "1250/1250 [==============================] - 13s 10ms/step - loss: 0.9090 - accuracy: 0.8143 - val_loss: 0.8380 - val_accuracy: 0.8314 - lr: 0.0010\n",
            "Epoch 20/30\n",
            "1250/1250 [==============================] - 13s 10ms/step - loss: 0.8939 - accuracy: 0.8145 - val_loss: 0.9832 - val_accuracy: 0.7826 - lr: 0.0010\n",
            "Epoch 21/30\n",
            "1250/1250 [==============================] - 13s 10ms/step - loss: 0.8824 - accuracy: 0.8200 - val_loss: 0.8630 - val_accuracy: 0.8190 - lr: 0.0010\n",
            "Epoch 22/30\n",
            "1250/1250 [==============================] - 13s 10ms/step - loss: 0.8579 - accuracy: 0.8268 - val_loss: 0.8338 - val_accuracy: 0.8265 - lr: 0.0010\n",
            "Epoch 23/30\n",
            "1250/1250 [==============================] - 13s 10ms/step - loss: 0.8541 - accuracy: 0.8283 - val_loss: 0.8181 - val_accuracy: 0.8384 - lr: 0.0010\n",
            "Epoch 24/30\n",
            "1250/1250 [==============================] - 13s 11ms/step - loss: 0.8383 - accuracy: 0.8319 - val_loss: 0.8100 - val_accuracy: 0.8394 - lr: 0.0010\n",
            "Epoch 25/30\n",
            "1250/1250 [==============================] - 13s 11ms/step - loss: 0.8487 - accuracy: 0.8312 - val_loss: 0.8658 - val_accuracy: 0.8241 - lr: 0.0010\n",
            "Epoch 26/30\n",
            "1250/1250 [==============================] - 13s 10ms/step - loss: 0.8321 - accuracy: 0.8369 - val_loss: 0.8364 - val_accuracy: 0.8283 - lr: 0.0010\n",
            "Epoch 27/30\n",
            "1250/1250 [==============================] - 13s 10ms/step - loss: 0.8236 - accuracy: 0.8399 - val_loss: 0.8427 - val_accuracy: 0.8292 - lr: 0.0010\n",
            "Epoch 28/30\n",
            "1250/1250 [==============================] - 13s 11ms/step - loss: 0.8189 - accuracy: 0.8390 - val_loss: 0.8672 - val_accuracy: 0.8239 - lr: 0.0010\n",
            "Epoch 29/30\n",
            "1250/1250 [==============================] - 13s 10ms/step - loss: 0.8208 - accuracy: 0.8425 - val_loss: 0.8174 - val_accuracy: 0.8398 - lr: 0.0010\n",
            "Epoch 30/30\n",
            "1250/1250 [==============================] - 13s 10ms/step - loss: 0.8057 - accuracy: 0.8466 - val_loss: 0.7989 - val_accuracy: 0.8423 - lr: 0.0010\n"
          ]
        },
        {
          "output_type": "execute_result",
          "data": {
            "text/plain": [
              "<keras.callbacks.History at 0x7f2297999090>"
            ]
          },
          "metadata": {},
          "execution_count": 16
        }
      ],
      "source": [
        "#train the model\n",
        "model.fit(x_train, y_train, epochs=30, validation_split=0.2, callbacks=[lr_schedule])\n"
      ]
    },
    {
      "cell_type": "code",
      "execution_count": 17,
      "metadata": {
        "colab": {
          "base_uri": "https://localhost:8080/"
        },
        "id": "zEU_IkwH3d3k",
        "outputId": "aa2f38d6-2b7b-4714-daa7-37cda590c2c0"
      },
      "outputs": [
        {
          "output_type": "stream",
          "name": "stdout",
          "text": [
            "313/313 [==============================] - 1s 4ms/step - loss: 0.8087 - accuracy: 0.8363\n",
            "Test accuracy: 0.8363000154495239\n",
            "Test loss: 0.8086720108985901\n"
          ]
        }
      ],
      "source": [
        "# evaluate the model\n",
        "test_loss, test_acc = model.evaluate(x_test, y_test)\n",
        "\n",
        "print('Test accuracy:', test_acc)\n",
        "print('Test loss:', test_loss)"
      ]
    }
  ],
  "metadata": {
    "accelerator": "GPU",
    "colab": {
      "provenance": [],
      "authorship_tag": "ABX9TyPAu6S6lXZkjhbGdcyXsBse",
      "include_colab_link": true
    },
    "kernelspec": {
      "display_name": "Python 3",
      "name": "python3"
    },
    "language_info": {
      "name": "python"
    }
  },
  "nbformat": 4,
  "nbformat_minor": 0
}